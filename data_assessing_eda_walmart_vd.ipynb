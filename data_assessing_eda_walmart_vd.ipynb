{
 "cells": [
  {
   "cell_type": "code",
   "execution_count": 1,
   "id": "206d00b8",
   "metadata": {},
   "outputs": [],
   "source": [
    "import pandas as pd\n",
    "import numpy as np\n",
    "import matplotlib.pyplot as plt\n",
    "import matplotlib.colors as mcolors"
   ]
  },
  {
   "cell_type": "code",
   "execution_count": 2,
   "id": "9b039a35",
   "metadata": {},
   "outputs": [
    {
     "data": {
      "text/html": [
       "<div>\n",
       "<style scoped>\n",
       "    .dataframe tbody tr th:only-of-type {\n",
       "        vertical-align: middle;\n",
       "    }\n",
       "\n",
       "    .dataframe tbody tr th {\n",
       "        vertical-align: top;\n",
       "    }\n",
       "\n",
       "    .dataframe thead th {\n",
       "        text-align: right;\n",
       "    }\n",
       "</style>\n",
       "<table border=\"1\" class=\"dataframe\">\n",
       "  <thead>\n",
       "    <tr style=\"text-align: right;\">\n",
       "      <th></th>\n",
       "      <th>User_ID</th>\n",
       "      <th>Product_ID</th>\n",
       "      <th>Gender</th>\n",
       "      <th>Age</th>\n",
       "      <th>Occupation</th>\n",
       "      <th>City_Category</th>\n",
       "      <th>Stay_In_Current_City_Years</th>\n",
       "      <th>Marital_Status</th>\n",
       "      <th>Product_Category</th>\n",
       "      <th>Purchase</th>\n",
       "    </tr>\n",
       "  </thead>\n",
       "  <tbody>\n",
       "    <tr>\n",
       "      <th>0</th>\n",
       "      <td>1000001</td>\n",
       "      <td>P00069042</td>\n",
       "      <td>F</td>\n",
       "      <td>0-17</td>\n",
       "      <td>10</td>\n",
       "      <td>A</td>\n",
       "      <td>2</td>\n",
       "      <td>0</td>\n",
       "      <td>3</td>\n",
       "      <td>8370</td>\n",
       "    </tr>\n",
       "    <tr>\n",
       "      <th>1</th>\n",
       "      <td>1000001</td>\n",
       "      <td>P00248942</td>\n",
       "      <td>F</td>\n",
       "      <td>0-17</td>\n",
       "      <td>10</td>\n",
       "      <td>A</td>\n",
       "      <td>2</td>\n",
       "      <td>0</td>\n",
       "      <td>1</td>\n",
       "      <td>15200</td>\n",
       "    </tr>\n",
       "    <tr>\n",
       "      <th>2</th>\n",
       "      <td>1000001</td>\n",
       "      <td>P00087842</td>\n",
       "      <td>F</td>\n",
       "      <td>0-17</td>\n",
       "      <td>10</td>\n",
       "      <td>A</td>\n",
       "      <td>2</td>\n",
       "      <td>0</td>\n",
       "      <td>12</td>\n",
       "      <td>1422</td>\n",
       "    </tr>\n",
       "    <tr>\n",
       "      <th>3</th>\n",
       "      <td>1000001</td>\n",
       "      <td>P00085442</td>\n",
       "      <td>F</td>\n",
       "      <td>0-17</td>\n",
       "      <td>10</td>\n",
       "      <td>A</td>\n",
       "      <td>2</td>\n",
       "      <td>0</td>\n",
       "      <td>12</td>\n",
       "      <td>1057</td>\n",
       "    </tr>\n",
       "    <tr>\n",
       "      <th>4</th>\n",
       "      <td>1000002</td>\n",
       "      <td>P00285442</td>\n",
       "      <td>M</td>\n",
       "      <td>55+</td>\n",
       "      <td>16</td>\n",
       "      <td>C</td>\n",
       "      <td>4+</td>\n",
       "      <td>0</td>\n",
       "      <td>8</td>\n",
       "      <td>7969</td>\n",
       "    </tr>\n",
       "  </tbody>\n",
       "</table>\n",
       "</div>"
      ],
      "text/plain": [
       "   User_ID Product_ID Gender   Age  Occupation City_Category  \\\n",
       "0  1000001  P00069042      F  0-17          10             A   \n",
       "1  1000001  P00248942      F  0-17          10             A   \n",
       "2  1000001  P00087842      F  0-17          10             A   \n",
       "3  1000001  P00085442      F  0-17          10             A   \n",
       "4  1000002  P00285442      M   55+          16             C   \n",
       "\n",
       "  Stay_In_Current_City_Years  Marital_Status  Product_Category  Purchase  \n",
       "0                          2               0                 3      8370  \n",
       "1                          2               0                 1     15200  \n",
       "2                          2               0                12      1422  \n",
       "3                          2               0                12      1057  \n",
       "4                         4+               0                 8      7969  "
      ]
     },
     "execution_count": 2,
     "metadata": {},
     "output_type": "execute_result"
    }
   ],
   "source": [
    "test = pd.read_csv('D:\\dicoding_praktikum\\walmart.csv')\n",
    "test.head()"
   ]
  },
  {
   "cell_type": "code",
   "execution_count": 3,
   "id": "bf9a278b",
   "metadata": {},
   "outputs": [
    {
     "name": "stdout",
     "output_type": "stream",
     "text": [
      "<class 'pandas.core.frame.DataFrame'>\n",
      "RangeIndex: 550068 entries, 0 to 550067\n",
      "Data columns (total 10 columns):\n",
      " #   Column                      Non-Null Count   Dtype \n",
      "---  ------                      --------------   ----- \n",
      " 0   User_ID                     550068 non-null  int64 \n",
      " 1   Product_ID                  550068 non-null  object\n",
      " 2   Gender                      550068 non-null  object\n",
      " 3   Age                         550068 non-null  object\n",
      " 4   Occupation                  550068 non-null  int64 \n",
      " 5   City_Category               550068 non-null  object\n",
      " 6   Stay_In_Current_City_Years  550068 non-null  object\n",
      " 7   Marital_Status              550068 non-null  int64 \n",
      " 8   Product_Category            550068 non-null  int64 \n",
      " 9   Purchase                    550068 non-null  int64 \n",
      "dtypes: int64(5), object(5)\n",
      "memory usage: 42.0+ MB\n"
     ]
    }
   ],
   "source": [
    "test.info()"
   ]
  },
  {
   "cell_type": "code",
   "execution_count": 4,
   "id": "72faa261",
   "metadata": {},
   "outputs": [],
   "source": [
    "test['User_ID'] = test['User_ID'].astype(\"object\")\n",
    "test['Occupation'] = test['Occupation'].astype(\"object\")\n",
    "test['Marital_Status'] = test['Marital_Status'].astype(\"object\")\n",
    "#test['Product_Category'] = test['Product_Category'].astype(\"object\")"
   ]
  },
  {
   "cell_type": "code",
   "execution_count": 5,
   "id": "438d6d60",
   "metadata": {},
   "outputs": [
    {
     "data": {
      "text/plain": [
       "User_ID                       0\n",
       "Product_ID                    0\n",
       "Gender                        0\n",
       "Age                           0\n",
       "Occupation                    0\n",
       "City_Category                 0\n",
       "Stay_In_Current_City_Years    0\n",
       "Marital_Status                0\n",
       "Product_Category              0\n",
       "Purchase                      0\n",
       "dtype: int64"
      ]
     },
     "execution_count": 5,
     "metadata": {},
     "output_type": "execute_result"
    }
   ],
   "source": [
    "test.isna().sum()"
   ]
  },
  {
   "cell_type": "code",
   "execution_count": 6,
   "id": "f80043af",
   "metadata": {},
   "outputs": [
    {
     "data": {
      "text/html": [
       "<div>\n",
       "<style scoped>\n",
       "    .dataframe tbody tr th:only-of-type {\n",
       "        vertical-align: middle;\n",
       "    }\n",
       "\n",
       "    .dataframe tbody tr th {\n",
       "        vertical-align: top;\n",
       "    }\n",
       "\n",
       "    .dataframe thead th {\n",
       "        text-align: right;\n",
       "    }\n",
       "</style>\n",
       "<table border=\"1\" class=\"dataframe\">\n",
       "  <thead>\n",
       "    <tr style=\"text-align: right;\">\n",
       "      <th></th>\n",
       "      <th>Product_Category</th>\n",
       "      <th>Purchase</th>\n",
       "    </tr>\n",
       "  </thead>\n",
       "  <tbody>\n",
       "    <tr>\n",
       "      <th>count</th>\n",
       "      <td>550068.000000</td>\n",
       "      <td>550068.000000</td>\n",
       "    </tr>\n",
       "    <tr>\n",
       "      <th>mean</th>\n",
       "      <td>5.404270</td>\n",
       "      <td>9263.968713</td>\n",
       "    </tr>\n",
       "    <tr>\n",
       "      <th>std</th>\n",
       "      <td>3.936211</td>\n",
       "      <td>5023.065394</td>\n",
       "    </tr>\n",
       "    <tr>\n",
       "      <th>min</th>\n",
       "      <td>1.000000</td>\n",
       "      <td>12.000000</td>\n",
       "    </tr>\n",
       "    <tr>\n",
       "      <th>25%</th>\n",
       "      <td>1.000000</td>\n",
       "      <td>5823.000000</td>\n",
       "    </tr>\n",
       "    <tr>\n",
       "      <th>50%</th>\n",
       "      <td>5.000000</td>\n",
       "      <td>8047.000000</td>\n",
       "    </tr>\n",
       "    <tr>\n",
       "      <th>75%</th>\n",
       "      <td>8.000000</td>\n",
       "      <td>12054.000000</td>\n",
       "    </tr>\n",
       "    <tr>\n",
       "      <th>max</th>\n",
       "      <td>20.000000</td>\n",
       "      <td>23961.000000</td>\n",
       "    </tr>\n",
       "  </tbody>\n",
       "</table>\n",
       "</div>"
      ],
      "text/plain": [
       "       Product_Category       Purchase\n",
       "count     550068.000000  550068.000000\n",
       "mean           5.404270    9263.968713\n",
       "std            3.936211    5023.065394\n",
       "min            1.000000      12.000000\n",
       "25%            1.000000    5823.000000\n",
       "50%            5.000000    8047.000000\n",
       "75%            8.000000   12054.000000\n",
       "max           20.000000   23961.000000"
      ]
     },
     "execution_count": 6,
     "metadata": {},
     "output_type": "execute_result"
    }
   ],
   "source": [
    "test.describe()"
   ]
  },
  {
   "cell_type": "code",
   "execution_count": 7,
   "id": "f43b44f8",
   "metadata": {},
   "outputs": [
    {
     "data": {
      "text/plain": [
       "0"
      ]
     },
     "execution_count": 7,
     "metadata": {},
     "output_type": "execute_result"
    }
   ],
   "source": [
    "test.duplicated().sum()"
   ]
  },
  {
   "cell_type": "code",
   "execution_count": 8,
   "id": "23d06652",
   "metadata": {},
   "outputs": [
    {
     "name": "stdout",
     "output_type": "stream",
     "text": [
      "<class 'pandas.core.frame.DataFrame'>\n",
      "RangeIndex: 550068 entries, 0 to 550067\n",
      "Data columns (total 10 columns):\n",
      " #   Column                      Non-Null Count   Dtype \n",
      "---  ------                      --------------   ----- \n",
      " 0   User_ID                     550068 non-null  object\n",
      " 1   Product_ID                  550068 non-null  object\n",
      " 2   Gender                      550068 non-null  object\n",
      " 3   Age                         550068 non-null  object\n",
      " 4   Occupation                  550068 non-null  object\n",
      " 5   City_Category               550068 non-null  object\n",
      " 6   Stay_In_Current_City_Years  550068 non-null  object\n",
      " 7   Marital_Status              550068 non-null  object\n",
      " 8   Product_Category            550068 non-null  int64 \n",
      " 9   Purchase                    550068 non-null  int64 \n",
      "dtypes: int64(2), object(8)\n",
      "memory usage: 42.0+ MB\n"
     ]
    }
   ],
   "source": [
    "test.info()"
   ]
  },
  {
   "cell_type": "code",
   "execution_count": 9,
   "id": "c879a318",
   "metadata": {},
   "outputs": [],
   "source": [
    "#diatas itulah data assesing. Sekarang kita memasuki Exploratory Data Analytics"
   ]
  },
  {
   "cell_type": "code",
   "execution_count": 10,
   "id": "23d9769d",
   "metadata": {},
   "outputs": [
    {
     "data": {
      "text/plain": [
       "26-35    219587\n",
       "36-45    110013\n",
       "18-25     99660\n",
       "46-50     45701\n",
       "51-55     38501\n",
       "55+       21504\n",
       "0-17      15102\n",
       "Name: Age, dtype: int64"
      ]
     },
     "execution_count": 10,
     "metadata": {},
     "output_type": "execute_result"
    }
   ],
   "source": [
    "#kelompok umur yang paling banyak melakukan pembelian\n",
    "test.Age.value_counts()"
   ]
  },
  {
   "cell_type": "code",
   "execution_count": 11,
   "id": "b924c068",
   "metadata": {},
   "outputs": [
    {
     "name": "stdout",
     "output_type": "stream",
     "text": [
      "26-35\n"
     ]
    }
   ],
   "source": [
    "mode_ages = test['Age'].mode()[0]\n",
    "print(mode_ages)"
   ]
  },
  {
   "cell_type": "code",
   "execution_count": 12,
   "id": "ce7164f4",
   "metadata": {},
   "outputs": [],
   "source": [
    "age_mode_mean = np.array([26, 27, 28, 29, 30, 31, 32, 33, 34, 35])"
   ]
  },
  {
   "cell_type": "code",
   "execution_count": 13,
   "id": "8462bb59",
   "metadata": {},
   "outputs": [
    {
     "data": {
      "text/plain": [
       "30.5"
      ]
     },
     "execution_count": 13,
     "metadata": {},
     "output_type": "execute_result"
    }
   ],
   "source": [
    "age_mode_mean.mean()"
   ]
  },
  {
   "cell_type": "code",
   "execution_count": 14,
   "id": "b78ec2d5",
   "metadata": {},
   "outputs": [
    {
     "data": {
      "text/plain": [
       "M    414259\n",
       "F    135809\n",
       "Name: Gender, dtype: int64"
      ]
     },
     "execution_count": 14,
     "metadata": {},
     "output_type": "execute_result"
    }
   ],
   "source": [
    "test.Gender.value_counts()"
   ]
  },
  {
   "cell_type": "code",
   "execution_count": 15,
   "id": "144ae23b",
   "metadata": {},
   "outputs": [
    {
     "name": "stdout",
     "output_type": "stream",
     "text": [
      "Persentase M: 75.31%\n",
      "Persentase F: 24.69%\n"
     ]
    }
   ],
   "source": [
    "male = 414259\n",
    "female = 135809\n",
    "total_gender = male + female\n",
    "\n",
    "persentase_M = (male / total_gender) * 100\n",
    "persentase_F = (female / total_gender) * 100\n",
    "\n",
    "print(f\"Persentase M: {persentase_M:.2f}%\")\n",
    "print(f\"Persentase F: {persentase_F:.2f}%\")"
   ]
  },
  {
   "cell_type": "code",
   "execution_count": 16,
   "id": "788c529a",
   "metadata": {},
   "outputs": [],
   "source": [
    "#pengaruh kategori data terhadap pembelian"
   ]
  },
  {
   "cell_type": "code",
   "execution_count": 17,
   "id": "f7a7f43e",
   "metadata": {},
   "outputs": [
    {
     "data": {
      "text/plain": [
       "B    231173\n",
       "C    171175\n",
       "A    147720\n",
       "Name: City_Category, dtype: int64"
      ]
     },
     "execution_count": 17,
     "metadata": {},
     "output_type": "execute_result"
    }
   ],
   "source": [
    "test.City_Category.value_counts()"
   ]
  },
  {
   "cell_type": "code",
   "execution_count": 18,
   "id": "43bb96fa",
   "metadata": {},
   "outputs": [
    {
     "data": {
      "text/plain": [
       "City_Category\n",
       "C    3139\n",
       "B    1707\n",
       "A    1045\n",
       "Name: User_ID, dtype: int64"
      ]
     },
     "execution_count": 18,
     "metadata": {},
     "output_type": "execute_result"
    }
   ],
   "source": [
    "test.groupby(by=\"City_Category\").User_ID.nunique().sort_values(ascending=False)"
   ]
  },
  {
   "cell_type": "code",
   "execution_count": 19,
   "id": "b247879b",
   "metadata": {},
   "outputs": [
    {
     "data": {
      "text/plain": [
       "City_Category\n",
       "A    147720\n",
       "B    231173\n",
       "C    171175\n",
       "Name: User_ID, dtype: int64"
      ]
     },
     "execution_count": 19,
     "metadata": {},
     "output_type": "execute_result"
    }
   ],
   "source": [
    "test.groupby(by=\"City_Category\").User_ID.count()"
   ]
  },
  {
   "cell_type": "code",
   "execution_count": 20,
   "id": "5862003b",
   "metadata": {},
   "outputs": [
    {
     "data": {
      "text/html": [
       "<div>\n",
       "<style scoped>\n",
       "    .dataframe tbody tr th:only-of-type {\n",
       "        vertical-align: middle;\n",
       "    }\n",
       "\n",
       "    .dataframe tbody tr th {\n",
       "        vertical-align: top;\n",
       "    }\n",
       "\n",
       "    .dataframe thead tr th {\n",
       "        text-align: left;\n",
       "    }\n",
       "\n",
       "    .dataframe thead tr:last-of-type th {\n",
       "        text-align: right;\n",
       "    }\n",
       "</style>\n",
       "<table border=\"1\" class=\"dataframe\">\n",
       "  <thead>\n",
       "    <tr>\n",
       "      <th></th>\n",
       "      <th colspan=\"3\" halign=\"left\">Purchase</th>\n",
       "    </tr>\n",
       "    <tr>\n",
       "      <th></th>\n",
       "      <th>min</th>\n",
       "      <th>max</th>\n",
       "      <th>sum</th>\n",
       "    </tr>\n",
       "    <tr>\n",
       "      <th>City_Category</th>\n",
       "      <th></th>\n",
       "      <th></th>\n",
       "      <th></th>\n",
       "    </tr>\n",
       "  </thead>\n",
       "  <tbody>\n",
       "    <tr>\n",
       "      <th>B</th>\n",
       "      <td>12</td>\n",
       "      <td>23960</td>\n",
       "      <td>2115533605</td>\n",
       "    </tr>\n",
       "    <tr>\n",
       "      <th>C</th>\n",
       "      <td>12</td>\n",
       "      <td>23961</td>\n",
       "      <td>1663807476</td>\n",
       "    </tr>\n",
       "    <tr>\n",
       "      <th>A</th>\n",
       "      <td>12</td>\n",
       "      <td>23961</td>\n",
       "      <td>1316471661</td>\n",
       "    </tr>\n",
       "  </tbody>\n",
       "</table>\n",
       "</div>"
      ],
      "text/plain": [
       "              Purchase                   \n",
       "                   min    max         sum\n",
       "City_Category                            \n",
       "B                   12  23960  2115533605\n",
       "C                   12  23961  1663807476\n",
       "A                   12  23961  1316471661"
      ]
     },
     "execution_count": 20,
     "metadata": {},
     "output_type": "execute_result"
    }
   ],
   "source": [
    "test.groupby(by=\"City_Category\").agg({\n",
    "    \"Purchase\": [\"min\", \"max\", \"sum\"]\n",
    "}).sort_values(by=(\"Purchase\", \"sum\"), ascending=False)"
   ]
  },
  {
   "cell_type": "code",
   "execution_count": 21,
   "id": "7faf0f72",
   "metadata": {},
   "outputs": [
    {
     "name": "stdout",
     "output_type": "stream",
     "text": [
      "City_Category\n",
      "A    5\n",
      "B    5\n",
      "C    1\n",
      "Name: Product_Category, dtype: int64\n"
     ]
    }
   ],
   "source": [
    "most_purchased_category = test.groupby('City_Category')['Product_Category'].agg(lambda x: x.mode()[0])\n",
    "\n",
    "print(most_purchased_category)"
   ]
  },
  {
   "cell_type": "code",
   "execution_count": 22,
   "id": "58e94141",
   "metadata": {},
   "outputs": [],
   "source": [
    "#produk yang paling populer di setiap kelompok pelanggan"
   ]
  },
  {
   "cell_type": "code",
   "execution_count": 23,
   "id": "220eccd9",
   "metadata": {},
   "outputs": [
    {
     "name": "stdout",
     "output_type": "stream",
     "text": [
      "      Product_Category              Most_Age_Purchased_Category\n",
      "                   min max      sum                            \n",
      "Age                                                            \n",
      "26-35                1  20  1166945                           5\n",
      "36-45                1  20   604438                           5\n",
      "18-25                1  20   509371                           5\n",
      "46-50                1  20   262424                           5\n",
      "51-55                1  20   222313                           5\n",
      "55+                  1  20   130450                           8\n",
      "0-17                 1  20    76775                           5\n"
     ]
    }
   ],
   "source": [
    "agg_data = test.groupby(by=\"Age\").agg({\n",
    "    \"Product_Category\": [\"min\", \"max\", \"sum\"]\n",
    "})\n",
    "most_age_purchased_category = test.groupby('Age')['Product_Category'].agg(lambda x: x.mode()[0])\n",
    "\n",
    "agg_data['Most_Age_Purchased_Category'] = most_age_purchased_category\n",
    "agg_data = agg_data.sort_values(by=(\"Product_Category\", \"sum\"), ascending=False)\n",
    "print(agg_data)"
   ]
  },
  {
   "cell_type": "code",
   "execution_count": 24,
   "id": "0d3c6afe",
   "metadata": {},
   "outputs": [
    {
     "name": "stdout",
     "output_type": "stream",
     "text": [
      "       User_ID Product_Category     Most_Gender_Purchased_Category\n",
      "       nunique              min max                               \n",
      "Gender                                                            \n",
      "M         4225                1  20                              1\n",
      "F         1666                1  20                              5\n"
     ]
    }
   ],
   "source": [
    "product_preferention = test.groupby(by=\"Gender\").agg({\n",
    "    \"User_ID\": \"nunique\",\n",
    "    \"Product_Category\": [\"min\", \"max\"]\n",
    "})\n",
    "\n",
    "most_gender_purchased_category = test.groupby('Gender')['Product_Category'].agg(lambda x: x.mode()[0])\n",
    "\n",
    "product_preferention['Most_Gender_Purchased_Category'] = most_gender_purchased_category\n",
    "product_preferention = product_preferention.sort_values(by=(\"User_ID\", \"nunique\"), ascending=False)\n",
    "print(product_preferention)"
   ]
  },
  {
   "cell_type": "code",
   "execution_count": 25,
   "id": "9ec766a7",
   "metadata": {},
   "outputs": [
    {
     "data": {
      "text/plain": [
       "5     150933\n",
       "1     140378\n",
       "8     113925\n",
       "11     24287\n",
       "2      23864\n",
       "6      20466\n",
       "3      20213\n",
       "4      11753\n",
       "16      9828\n",
       "15      6290\n",
       "13      5549\n",
       "10      5125\n",
       "12      3947\n",
       "7       3721\n",
       "18      3125\n",
       "20      2550\n",
       "19      1603\n",
       "14      1523\n",
       "17       578\n",
       "9        410\n",
       "Name: Product_Category, dtype: int64"
      ]
     },
     "execution_count": 25,
     "metadata": {},
     "output_type": "execute_result"
    }
   ],
   "source": [
    "test.Product_Category.value_counts()"
   ]
  },
  {
   "cell_type": "code",
   "execution_count": 26,
   "id": "586b7514",
   "metadata": {},
   "outputs": [
    {
     "data": {
      "text/plain": [
       "1     193821\n",
       "2     101838\n",
       "3      95285\n",
       "4+     84726\n",
       "0      74398\n",
       "Name: Stay_In_Current_City_Years, dtype: int64"
      ]
     },
     "execution_count": 26,
     "metadata": {},
     "output_type": "execute_result"
    }
   ],
   "source": [
    "#lama tinggal di kota mempengaruhi pembelian\n",
    "test.Stay_In_Current_City_Years.value_counts()"
   ]
  },
  {
   "cell_type": "code",
   "execution_count": 27,
   "id": "0c0d76c9",
   "metadata": {},
   "outputs": [
    {
     "data": {
      "text/plain": [
       "Stay_In_Current_City_Years\n",
       "1     2086\n",
       "2     1145\n",
       "3      979\n",
       "4+     909\n",
       "0      772\n",
       "Name: User_ID, dtype: int64"
      ]
     },
     "execution_count": 27,
     "metadata": {},
     "output_type": "execute_result"
    }
   ],
   "source": [
    "test.groupby(by=\"Stay_In_Current_City_Years\").User_ID.nunique().sort_values(ascending=False)"
   ]
  },
  {
   "cell_type": "code",
   "execution_count": 28,
   "id": "36a4522c",
   "metadata": {},
   "outputs": [
    {
     "name": "stdout",
     "output_type": "stream",
     "text": [
      "                           User_ID Product_Category      \\\n",
      "                           nunique              min max   \n",
      "Stay_In_Current_City_Years                                \n",
      "1                             2086                1  20   \n",
      "2                             1145                1  20   \n",
      "3                              979                1  20   \n",
      "4+                             909                1  20   \n",
      "0                              772                1  20   \n",
      "\n",
      "                           Most_Stay_Purchased_Category  \n",
      "                                                         \n",
      "Stay_In_Current_City_Years                               \n",
      "1                                                     5  \n",
      "2                                                     5  \n",
      "3                                                     5  \n",
      "4+                                                    5  \n",
      "0                                                     5  \n"
     ]
    }
   ],
   "source": [
    "agg_data2 = test.groupby(by=\"Stay_In_Current_City_Years\").agg({\n",
    "    \"User_ID\":\"nunique\",\n",
    "    \"Product_Category\": [\"min\", \"max\"]\n",
    "})\n",
    "most_stay_purchased_category = test.groupby('Stay_In_Current_City_Years')['Product_Category'].agg(lambda x: x.mode()[0])\n",
    "\n",
    "agg_data2['Most_Stay_Purchased_Category'] = most_stay_purchased_category\n",
    "agg_data2 = agg_data2.sort_values(by=(\"User_ID\", \"nunique\"), ascending=False)\n",
    "print(agg_data2)"
   ]
  },
  {
   "cell_type": "code",
   "execution_count": 29,
   "id": "ccef8208",
   "metadata": {},
   "outputs": [
    {
     "data": {
      "text/plain": [
       "Occupation\n",
       "4     740\n",
       "0     688\n",
       "7     669\n",
       "1     517\n",
       "17    491\n",
       "12    376\n",
       "14    294\n",
       "20    273\n",
       "2     256\n",
       "16    235\n",
       "6     228\n",
       "10    192\n",
       "3     170\n",
       "13    140\n",
       "15    140\n",
       "11    128\n",
       "5     111\n",
       "9      88\n",
       "19     71\n",
       "18     67\n",
       "8      17\n",
       "Name: User_ID, dtype: int64"
      ]
     },
     "execution_count": 29,
     "metadata": {},
     "output_type": "execute_result"
    }
   ],
   "source": [
    "#pengaruh pekerjaan terhadap pembelian\n",
    "test.groupby(by=\"Occupation\").User_ID.nunique().sort_values(ascending=False)"
   ]
  },
  {
   "cell_type": "code",
   "execution_count": 30,
   "id": "596a0289",
   "metadata": {},
   "outputs": [
    {
     "data": {
      "text/html": [
       "<div>\n",
       "<style scoped>\n",
       "    .dataframe tbody tr th:only-of-type {\n",
       "        vertical-align: middle;\n",
       "    }\n",
       "\n",
       "    .dataframe tbody tr th {\n",
       "        vertical-align: top;\n",
       "    }\n",
       "\n",
       "    .dataframe thead tr th {\n",
       "        text-align: left;\n",
       "    }\n",
       "\n",
       "    .dataframe thead tr:last-of-type th {\n",
       "        text-align: right;\n",
       "    }\n",
       "</style>\n",
       "<table border=\"1\" class=\"dataframe\">\n",
       "  <thead>\n",
       "    <tr>\n",
       "      <th></th>\n",
       "      <th>User_ID</th>\n",
       "      <th colspan=\"3\" halign=\"left\">Purchase</th>\n",
       "    </tr>\n",
       "    <tr>\n",
       "      <th></th>\n",
       "      <th>nunique</th>\n",
       "      <th>min</th>\n",
       "      <th>max</th>\n",
       "      <th>sum</th>\n",
       "    </tr>\n",
       "    <tr>\n",
       "      <th>Occupation</th>\n",
       "      <th></th>\n",
       "      <th></th>\n",
       "      <th></th>\n",
       "      <th></th>\n",
       "    </tr>\n",
       "  </thead>\n",
       "  <tbody>\n",
       "    <tr>\n",
       "      <th>4</th>\n",
       "      <td>740</td>\n",
       "      <td>12</td>\n",
       "      <td>23961</td>\n",
       "      <td>666244484</td>\n",
       "    </tr>\n",
       "    <tr>\n",
       "      <th>0</th>\n",
       "      <td>688</td>\n",
       "      <td>12</td>\n",
       "      <td>23961</td>\n",
       "      <td>635406958</td>\n",
       "    </tr>\n",
       "    <tr>\n",
       "      <th>7</th>\n",
       "      <td>669</td>\n",
       "      <td>12</td>\n",
       "      <td>23948</td>\n",
       "      <td>557371587</td>\n",
       "    </tr>\n",
       "    <tr>\n",
       "      <th>1</th>\n",
       "      <td>517</td>\n",
       "      <td>12</td>\n",
       "      <td>23960</td>\n",
       "      <td>424614144</td>\n",
       "    </tr>\n",
       "    <tr>\n",
       "      <th>17</th>\n",
       "      <td>491</td>\n",
       "      <td>12</td>\n",
       "      <td>23961</td>\n",
       "      <td>393281453</td>\n",
       "    </tr>\n",
       "    <tr>\n",
       "      <th>12</th>\n",
       "      <td>376</td>\n",
       "      <td>12</td>\n",
       "      <td>23960</td>\n",
       "      <td>305449446</td>\n",
       "    </tr>\n",
       "    <tr>\n",
       "      <th>20</th>\n",
       "      <td>273</td>\n",
       "      <td>12</td>\n",
       "      <td>23960</td>\n",
       "      <td>296570442</td>\n",
       "    </tr>\n",
       "    <tr>\n",
       "      <th>14</th>\n",
       "      <td>294</td>\n",
       "      <td>12</td>\n",
       "      <td>23941</td>\n",
       "      <td>259454692</td>\n",
       "    </tr>\n",
       "    <tr>\n",
       "      <th>16</th>\n",
       "      <td>235</td>\n",
       "      <td>12</td>\n",
       "      <td>23947</td>\n",
       "      <td>238346955</td>\n",
       "    </tr>\n",
       "    <tr>\n",
       "      <th>2</th>\n",
       "      <td>256</td>\n",
       "      <td>12</td>\n",
       "      <td>23955</td>\n",
       "      <td>238028583</td>\n",
       "    </tr>\n",
       "    <tr>\n",
       "      <th>6</th>\n",
       "      <td>228</td>\n",
       "      <td>12</td>\n",
       "      <td>23951</td>\n",
       "      <td>188416784</td>\n",
       "    </tr>\n",
       "    <tr>\n",
       "      <th>3</th>\n",
       "      <td>170</td>\n",
       "      <td>12</td>\n",
       "      <td>23914</td>\n",
       "      <td>162002168</td>\n",
       "    </tr>\n",
       "    <tr>\n",
       "      <th>15</th>\n",
       "      <td>140</td>\n",
       "      <td>12</td>\n",
       "      <td>23949</td>\n",
       "      <td>118960211</td>\n",
       "    </tr>\n",
       "    <tr>\n",
       "      <th>10</th>\n",
       "      <td>192</td>\n",
       "      <td>12</td>\n",
       "      <td>23955</td>\n",
       "      <td>115844465</td>\n",
       "    </tr>\n",
       "    <tr>\n",
       "      <th>5</th>\n",
       "      <td>111</td>\n",
       "      <td>12</td>\n",
       "      <td>23924</td>\n",
       "      <td>113649759</td>\n",
       "    </tr>\n",
       "    <tr>\n",
       "      <th>11</th>\n",
       "      <td>128</td>\n",
       "      <td>12</td>\n",
       "      <td>23946</td>\n",
       "      <td>106751618</td>\n",
       "    </tr>\n",
       "    <tr>\n",
       "      <th>19</th>\n",
       "      <td>71</td>\n",
       "      <td>12</td>\n",
       "      <td>23939</td>\n",
       "      <td>73700617</td>\n",
       "    </tr>\n",
       "    <tr>\n",
       "      <th>13</th>\n",
       "      <td>140</td>\n",
       "      <td>12</td>\n",
       "      <td>23959</td>\n",
       "      <td>71919481</td>\n",
       "    </tr>\n",
       "    <tr>\n",
       "      <th>18</th>\n",
       "      <td>67</td>\n",
       "      <td>12</td>\n",
       "      <td>23894</td>\n",
       "      <td>60721461</td>\n",
       "    </tr>\n",
       "    <tr>\n",
       "      <th>9</th>\n",
       "      <td>88</td>\n",
       "      <td>13</td>\n",
       "      <td>23943</td>\n",
       "      <td>54340046</td>\n",
       "    </tr>\n",
       "    <tr>\n",
       "      <th>8</th>\n",
       "      <td>17</td>\n",
       "      <td>14</td>\n",
       "      <td>23869</td>\n",
       "      <td>14737388</td>\n",
       "    </tr>\n",
       "  </tbody>\n",
       "</table>\n",
       "</div>"
      ],
      "text/plain": [
       "           User_ID Purchase                  \n",
       "           nunique      min    max        sum\n",
       "Occupation                                   \n",
       "4              740       12  23961  666244484\n",
       "0              688       12  23961  635406958\n",
       "7              669       12  23948  557371587\n",
       "1              517       12  23960  424614144\n",
       "17             491       12  23961  393281453\n",
       "12             376       12  23960  305449446\n",
       "20             273       12  23960  296570442\n",
       "14             294       12  23941  259454692\n",
       "16             235       12  23947  238346955\n",
       "2              256       12  23955  238028583\n",
       "6              228       12  23951  188416784\n",
       "3              170       12  23914  162002168\n",
       "15             140       12  23949  118960211\n",
       "10             192       12  23955  115844465\n",
       "5              111       12  23924  113649759\n",
       "11             128       12  23946  106751618\n",
       "19              71       12  23939   73700617\n",
       "13             140       12  23959   71919481\n",
       "18              67       12  23894   60721461\n",
       "9               88       13  23943   54340046\n",
       "8               17       14  23869   14737388"
      ]
     },
     "execution_count": 30,
     "metadata": {},
     "output_type": "execute_result"
    }
   ],
   "source": [
    "test.groupby(by=\"Occupation\").agg({\n",
    "    \"User_ID\": \"nunique\",\n",
    "    \"Purchase\": [\"min\", \"max\", \"sum\"]\n",
    "}).sort_values(by=(\"Purchase\", \"sum\"), ascending=False)"
   ]
  },
  {
   "cell_type": "code",
   "execution_count": 31,
   "id": "5328ce1d",
   "metadata": {},
   "outputs": [
    {
     "data": {
      "text/plain": [
       "4     72308\n",
       "0     69638\n",
       "7     59133\n",
       "1     47426\n",
       "17    40043\n",
       "20    33562\n",
       "12    31179\n",
       "14    27309\n",
       "2     26588\n",
       "16    25371\n",
       "6     20355\n",
       "3     17650\n",
       "10    12930\n",
       "5     12177\n",
       "15    12165\n",
       "11    11586\n",
       "19     8461\n",
       "13     7728\n",
       "18     6622\n",
       "9      6291\n",
       "8      1546\n",
       "Name: Occupation, dtype: int64"
      ]
     },
     "execution_count": 31,
     "metadata": {},
     "output_type": "execute_result"
    }
   ],
   "source": [
    "test.Occupation.value_counts()"
   ]
  },
  {
   "cell_type": "code",
   "execution_count": 32,
   "id": "ddd4eb15",
   "metadata": {},
   "outputs": [
    {
     "data": {
      "text/plain": [
       "Marital_Status\n",
       "0    3417\n",
       "1    2474\n",
       "Name: User_ID, dtype: int64"
      ]
     },
     "execution_count": 32,
     "metadata": {},
     "output_type": "execute_result"
    }
   ],
   "source": [
    "#tren pembelian berdasarkan status pernikahan\n",
    "test.groupby(by=\"Marital_Status\").User_ID.nunique().sort_values(ascending=False)"
   ]
  },
  {
   "cell_type": "code",
   "execution_count": 33,
   "id": "29e7b2f0",
   "metadata": {},
   "outputs": [
    {
     "data": {
      "text/html": [
       "<div>\n",
       "<style scoped>\n",
       "    .dataframe tbody tr th:only-of-type {\n",
       "        vertical-align: middle;\n",
       "    }\n",
       "\n",
       "    .dataframe tbody tr th {\n",
       "        vertical-align: top;\n",
       "    }\n",
       "\n",
       "    .dataframe thead tr th {\n",
       "        text-align: left;\n",
       "    }\n",
       "\n",
       "    .dataframe thead tr:last-of-type th {\n",
       "        text-align: right;\n",
       "    }\n",
       "</style>\n",
       "<table border=\"1\" class=\"dataframe\">\n",
       "  <thead>\n",
       "    <tr>\n",
       "      <th></th>\n",
       "      <th colspan=\"3\" halign=\"left\">Purchase</th>\n",
       "    </tr>\n",
       "    <tr>\n",
       "      <th></th>\n",
       "      <th>min</th>\n",
       "      <th>max</th>\n",
       "      <th>sum</th>\n",
       "    </tr>\n",
       "    <tr>\n",
       "      <th>Product_Category</th>\n",
       "      <th></th>\n",
       "      <th></th>\n",
       "      <th></th>\n",
       "    </tr>\n",
       "  </thead>\n",
       "  <tbody>\n",
       "    <tr>\n",
       "      <th>1</th>\n",
       "      <td>3790</td>\n",
       "      <td>19708</td>\n",
       "      <td>1910013754</td>\n",
       "    </tr>\n",
       "    <tr>\n",
       "      <th>5</th>\n",
       "      <td>1713</td>\n",
       "      <td>8907</td>\n",
       "      <td>941835229</td>\n",
       "    </tr>\n",
       "    <tr>\n",
       "      <th>8</th>\n",
       "      <td>1939</td>\n",
       "      <td>10082</td>\n",
       "      <td>854318799</td>\n",
       "    </tr>\n",
       "    <tr>\n",
       "      <th>6</th>\n",
       "      <td>3981</td>\n",
       "      <td>20690</td>\n",
       "      <td>324150302</td>\n",
       "    </tr>\n",
       "    <tr>\n",
       "      <th>2</th>\n",
       "      <td>3176</td>\n",
       "      <td>16504</td>\n",
       "      <td>268516186</td>\n",
       "    </tr>\n",
       "    <tr>\n",
       "      <th>3</th>\n",
       "      <td>2638</td>\n",
       "      <td>13717</td>\n",
       "      <td>204084713</td>\n",
       "    </tr>\n",
       "    <tr>\n",
       "      <th>16</th>\n",
       "      <td>4036</td>\n",
       "      <td>20971</td>\n",
       "      <td>145120612</td>\n",
       "    </tr>\n",
       "    <tr>\n",
       "      <th>11</th>\n",
       "      <td>1472</td>\n",
       "      <td>7654</td>\n",
       "      <td>113791115</td>\n",
       "    </tr>\n",
       "    <tr>\n",
       "      <th>10</th>\n",
       "      <td>4624</td>\n",
       "      <td>23961</td>\n",
       "      <td>100837301</td>\n",
       "    </tr>\n",
       "    <tr>\n",
       "      <th>15</th>\n",
       "      <td>4148</td>\n",
       "      <td>21569</td>\n",
       "      <td>92969042</td>\n",
       "    </tr>\n",
       "    <tr>\n",
       "      <th>7</th>\n",
       "      <td>4061</td>\n",
       "      <td>21080</td>\n",
       "      <td>60896731</td>\n",
       "    </tr>\n",
       "    <tr>\n",
       "      <th>4</th>\n",
       "      <td>684</td>\n",
       "      <td>3556</td>\n",
       "      <td>27380488</td>\n",
       "    </tr>\n",
       "    <tr>\n",
       "      <th>14</th>\n",
       "      <td>3657</td>\n",
       "      <td>18931</td>\n",
       "      <td>20014696</td>\n",
       "    </tr>\n",
       "    <tr>\n",
       "      <th>18</th>\n",
       "      <td>754</td>\n",
       "      <td>3900</td>\n",
       "      <td>9290201</td>\n",
       "    </tr>\n",
       "    <tr>\n",
       "      <th>9</th>\n",
       "      <td>4528</td>\n",
       "      <td>23531</td>\n",
       "      <td>6370324</td>\n",
       "    </tr>\n",
       "    <tr>\n",
       "      <th>17</th>\n",
       "      <td>2616</td>\n",
       "      <td>13264</td>\n",
       "      <td>5878699</td>\n",
       "    </tr>\n",
       "    <tr>\n",
       "      <th>12</th>\n",
       "      <td>342</td>\n",
       "      <td>1778</td>\n",
       "      <td>5331844</td>\n",
       "    </tr>\n",
       "    <tr>\n",
       "      <th>13</th>\n",
       "      <td>185</td>\n",
       "      <td>962</td>\n",
       "      <td>4008601</td>\n",
       "    </tr>\n",
       "    <tr>\n",
       "      <th>20</th>\n",
       "      <td>118</td>\n",
       "      <td>613</td>\n",
       "      <td>944727</td>\n",
       "    </tr>\n",
       "    <tr>\n",
       "      <th>19</th>\n",
       "      <td>12</td>\n",
       "      <td>62</td>\n",
       "      <td>59378</td>\n",
       "    </tr>\n",
       "  </tbody>\n",
       "</table>\n",
       "</div>"
      ],
      "text/plain": [
       "                 Purchase                   \n",
       "                      min    max         sum\n",
       "Product_Category                            \n",
       "1                    3790  19708  1910013754\n",
       "5                    1713   8907   941835229\n",
       "8                    1939  10082   854318799\n",
       "6                    3981  20690   324150302\n",
       "2                    3176  16504   268516186\n",
       "3                    2638  13717   204084713\n",
       "16                   4036  20971   145120612\n",
       "11                   1472   7654   113791115\n",
       "10                   4624  23961   100837301\n",
       "15                   4148  21569    92969042\n",
       "7                    4061  21080    60896731\n",
       "4                     684   3556    27380488\n",
       "14                   3657  18931    20014696\n",
       "18                    754   3900     9290201\n",
       "9                    4528  23531     6370324\n",
       "17                   2616  13264     5878699\n",
       "12                    342   1778     5331844\n",
       "13                    185    962     4008601\n",
       "20                    118    613      944727\n",
       "19                     12     62       59378"
      ]
     },
     "execution_count": 33,
     "metadata": {},
     "output_type": "execute_result"
    }
   ],
   "source": [
    "#kategori produk paling menguntungkan\n",
    "test.groupby(by=\"Product_Category\").agg({\n",
    "    \"Purchase\": [\"min\", \"max\", \"sum\"]\n",
    "}).sort_values(by=(\"Purchase\", \"sum\"), ascending=False)"
   ]
  },
  {
   "cell_type": "code",
   "execution_count": 34,
   "id": "4925ba01",
   "metadata": {},
   "outputs": [],
   "source": [
    "#Visualisasi Data"
   ]
  },
  {
   "cell_type": "code",
   "execution_count": 35,
   "id": "543ef67b",
   "metadata": {},
   "outputs": [
    {
     "data": {
      "image/png": "[encoded data removed]",
      "text/plain": [
       "<Figure size 1000x600 with 1 Axes>"
      ]
     },
     "metadata": {},
     "output_type": "display_data"
    }
   ],
   "source": [
    "age_counts = test['Age'].value_counts()\n",
    "\n",
    "# Membuat grafik batang\n",
    "plt.figure(figsize=(10, 6))\n",
    "age_counts.plot(kind='bar', color='skyblue')\n",
    "plt.title('Age Distribution')\n",
    "plt.xlabel('Age')\n",
    "plt.ylabel('Frequency')\n",
    "plt.xticks(rotation=0)  # Agar label pada sumbu x mudah dibaca\n",
    "plt.show()"
   ]
  },
  {
   "cell_type": "code",
   "execution_count": 36,
   "id": "870feebd",
   "metadata": {},
   "outputs": [
    {
     "data": {
      "text/plain": [
       "(array([0, 1]), [Text(0, 0, 'M'), Text(1, 0, 'F')])"
      ]
     },
     "execution_count": 36,
     "metadata": {},
     "output_type": "execute_result"
    },
    {
     "data": {
      "image/png": "[encoded data removed]",
      "text/plain": [
       "<Figure size 1000x600 with 1 Axes>"
      ]
     },
     "metadata": {},
     "output_type": "display_data"
    }
   ],
   "source": [
    "gender_counts = test['Gender'].value_counts()\n",
    "\n",
    "plt.figure(figsize=(10, 6))\n",
    "gender_counts.plot(kind='bar', color='skyblue')\n",
    "plt.title('Gender Distribution')\n",
    "plt.xlabel('Gender')\n",
    "plt.ylabel('Frequency')\n",
    "plt.xticks(rotation=0)  # Agar label pada sumbu x mudah dibaca"
   ]
  },
  {
   "cell_type": "code",
   "execution_count": 37,
   "id": "5d6da506",
   "metadata": {},
   "outputs": [],
   "source": [
    "#diatas merupakan distribusi usia dan gender"
   ]
  },
  {
   "cell_type": "code",
   "execution_count": 38,
   "id": "98fe3061",
   "metadata": {},
   "outputs": [
    {
     "data": {
      "image/png": "[encoded data removed]",
      "text/plain": [
       "<Figure size 1000x600 with 1 Axes>"
      ]
     },
     "metadata": {},
     "output_type": "display_data"
    }
   ],
   "source": [
    "city_category_graph = test.groupby(by=\"City_Category\").User_ID.nunique().sort_values(ascending=False)\n",
    "\n",
    "plt.figure(figsize=(10, 6))\n",
    "city_category_graph.plot(kind='bar', color='skyblue')\n",
    "plt.title('Distribution of Number of Customers by City')\n",
    "plt.xlabel('City Category')\n",
    "plt.ylabel('Number of Customers')\n",
    "plt.xticks(rotation=0)  # Agar label pada sumbu x mudah dibaca\n",
    "plt.show()"
   ]
  },
  {
   "cell_type": "code",
   "execution_count": 39,
   "id": "63ba4e9e",
   "metadata": {},
   "outputs": [
    {
     "data": {
      "text/plain": [
       "Text(0.5, 1.0, 'Most Purchased Product Category by City Category')"
      ]
     },
     "execution_count": 39,
     "metadata": {},
     "output_type": "execute_result"
    },
    {
     "data": {
      "image/png": "[encoded data removed]",
      "text/plain": [
       "<Figure size 800x500 with 1 Axes>"
      ]
     },
     "metadata": {},
     "output_type": "display_data"
    }
   ],
   "source": [
    "most_purchased_category = most_purchased_category.reset_index()\n",
    "\n",
    "plt.figure(figsize=(8, 5))\n",
    "plt.bar(most_purchased_category['City_Category'], most_purchased_category['Product_Category'], color='skyblue')\n",
    "plt.xlabel('City Category')\n",
    "plt.ylabel('Most Purchased Product Category')\n",
    "plt.title('Most Purchased Product Category by City Category')"
   ]
  },
  {
   "cell_type": "code",
   "execution_count": 40,
   "id": "bd0fc4aa",
   "metadata": {},
   "outputs": [
    {
     "data": {
      "image/png": "[encoded data removed]",
      "text/plain": [
       "<Figure size 1000x600 with 1 Axes>"
      ]
     },
     "metadata": {},
     "output_type": "display_data"
    }
   ],
   "source": [
    "plt.figure(figsize=(10, 6))\n",
    "most_age_purchased_category.plot(kind='bar', color='skyblue')\n",
    "plt.title('Most Purchased Product Category by Age')\n",
    "plt.xlabel('Age')\n",
    "plt.ylabel('Product Category')\n",
    "plt.xticks(rotation=0)  # Agar label pada sumbu x mudah dibaca\n",
    "plt.show()"
   ]
  },
  {
   "cell_type": "code",
   "execution_count": 47,
   "id": "3270d5b2",
   "metadata": {},
   "outputs": [
    {
     "data": {
      "image/png": "[encoded data removed]",
      "text/plain": [
       "<Figure size 640x480 with 1 Axes>"
      ]
     },
     "metadata": {},
     "output_type": "display_data"
    }
   ],
   "source": [
    "occupation_counts = test.groupby(by=\"Occupation\").User_ID.nunique().sort_values(ascending=False)\n",
    "\n",
    "occupation_counts.plot(kind='barh', color='skyblue')  # Diagram batang horizontal\n",
    "plt.title('Occupation Distribution')\n",
    "plt.xlabel('frequency')\n",
    "plt.ylabel('Occupation')\n",
    "plt.gca().invert_yaxis()  # Membalik sumbu Y agar urutan dari atas ke bawah"
   ]
  },
  {
   "cell_type": "code",
   "execution_count": null,
   "id": "c3e25249",
   "metadata": {},
   "outputs": [],
   "source": []
  }
 ],
 "metadata": {
  "kernelspec": {
   "display_name": "Python 3 (ipykernel)",
   "language": "python",
   "name": "python3"
  },
  "language_info": {
   "codemirror_mode": {
    "name": "ipython",
    "version": 3
   },
   "file_extension": ".py",
   "mimetype": "text/x-python",
   "name": "python",
   "nbconvert_exporter": "python",
   "pygments_lexer": "ipython3",
   "version": "3.9.13"
  }
 },
 "nbformat": 4,
 "nbformat_minor": 5
}
